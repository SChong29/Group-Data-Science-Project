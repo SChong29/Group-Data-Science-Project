{
 "cells": [
  {
   "cell_type": "code",
   "execution_count": 2,
   "id": "18f30870",
   "metadata": {},
   "outputs": [],
   "source": [
    "import csv\n",
    "import requests\n",
    "import os\n",
    "import time\n",
    "\n",
    "# Input and output file paths\n",
    "spotify_data_path = \"../../Data/Processed/spotify_data.csv\"\n",
    "deezer_data_path = \"../../Data/Raw/deezer_data_v.csv\"\n",
    "\n",
    "# Deezer API base URL\n",
    "deezer_api_url = \"https://api.deezer.com/track/isrc:\"\n",
    "\n",
    "# Ensure the output directory exists\n",
    "os.makedirs(os.path.dirname(deezer_data_path), exist_ok=True)\n",
    "\n",
    "# Read ISRCs from the Spotify data file\n",
    "with open(spotify_data_path, mode='r', encoding='utf-8') as spotify_file:\n",
    "    reader = csv.DictReader(spotify_file)\n",
    "    isrcs = [row['external_ids.isrc'] for row in reader if 'external_ids.isrc' in row]\n",
    "\n",
    "# Query Deezer API and save results\n",
    "with open(deezer_data_path, mode='a+', encoding='utf-8', newline='') as deezer_file:\n",
    "    fieldnames = ['id', 'title', 'artist', 'album', 'duration', 'link', 'rank', 'release_date', 'explicit_lyrics', 'isrc']\n",
    "    writer = csv.DictWriter(deezer_file, fieldnames=fieldnames)\n",
    "    writer.writeheader()\n",
    "\n",
    "    for isrc in isrcs[87000:]:\n",
    "        response = requests.get(deezer_api_url + isrc)\n",
    "        if response.status_code == 200:\n",
    "            data = response.json()\n",
    "            # print(data)\n",
    "            writer.writerow({\n",
    "                'id': data.get('id'),\n",
    "                'title': data.get('title'),\n",
    "                'artist': data.get('artist', {}).get('name'),\n",
    "                'album': data.get('album', {}).get('title'),\n",
    "                'duration': data.get('duration'),\n",
    "                'link': data.get('link'),\n",
    "                'rank': data.get('rank'),\n",
    "                'release_date': data.get('release_date'),\n",
    "                'explicit_lyrics': data.get('explicit_lyrics'),\n",
    "                'isrc': data.get('isrc')\n",
    "            })\n",
    "        else:\n",
    "            print(f\"Failed to fetch data for ISRC: {isrc}\")\n",
    "        time.sleep(0.1)"
   ]
  }
 ],
 "metadata": {
  "kernelspec": {
   "display_name": "Python 3",
   "language": "python",
   "name": "python3"
  },
  "language_info": {
   "codemirror_mode": {
    "name": "ipython",
    "version": 3
   },
   "file_extension": ".py",
   "mimetype": "text/x-python",
   "name": "python",
   "nbconvert_exporter": "python",
   "pygments_lexer": "ipython3",
   "version": "3.10.7"
  }
 },
 "nbformat": 4,
 "nbformat_minor": 5
}
