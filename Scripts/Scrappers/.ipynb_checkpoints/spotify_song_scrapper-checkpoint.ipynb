{
 "cells": [
  {
   "cell_type": "markdown",
   "metadata": {},
   "source": [
    "# Getting song information from spotify"
   ]
  },
  {
   "cell_type": "code",
   "execution_count": 1,
   "metadata": {},
   "outputs": [],
   "source": [
    "import pandas as pd\n",
    "import time\n",
    "import sys\n",
    "sys.path.append('../../Source')\n",
    "from source import *"
   ]
  },
  {
   "cell_type": "markdown",
   "metadata": {},
   "source": [
    "There is already a list of songs from a previous notebook, so we use that to search Spotify."
   ]
  },
  {
   "cell_type": "code",
   "execution_count": 2,
   "metadata": {},
   "outputs": [
    {
     "name": "stdout",
     "output_type": "stream",
     "text": [
      "                                            SongAndArtist\n",
      "count                                              204470\n",
      "unique                                             204428\n",
      "top     Nightwish - All the Works of Nature Which Ador...\n",
      "freq                                                    8\n"
     ]
    }
   ],
   "source": [
    "df_songs = pd.read_fwf('../../Data/Raw/unique_songs.txt', header=None, names=['SongAndArtist'])\n",
    "print(df_songs.describe())"
   ]
  },
  {
   "cell_type": "markdown",
   "metadata": {},
   "source": [
    "For every song name we have, we search spotify and get the top result. That might lead to duplicates, but they should be rare enough to not matter and we can easily filter them out using the spotify id.\n",
    "<br>\n",
    "We then save them into Data/Raw/unique_songs.txt"
   ]
  },
  {
   "cell_type": "markdown",
   "metadata": {},
   "source": [
    "20 hours estimate for all 200k songs - first 1k in 6 mins; first 10k in 58mins\n",
    "<br>\n",
    "However, Spotify API limits this to 25k songs a day, in about 150 minutes."
   ]
  },
  {
   "cell_type": "code",
   "execution_count": 3,
   "metadata": {},
   "outputs": [
    {
     "name": "stdout",
     "output_type": "stream",
     "text": [
      "Access token: BQC5xglCAwBTDzEB4v7sFbONUM_sIOEMUZ14aqMyezHGKkzELvExBW2-Ox3JEFCzSo6JEbPDixvQ9GsWjDUEJ_nafighg_Pm1FPrVlIvr5AwlNLeVGr_WY7ITROuJWcb9iRAT5ajE3I\n",
      "Index:  50000\n",
      "Failed to get a track:  (50411, 'W Sound - Mi Novio Tiene Novia - W Sound 02')\n",
      "With Python throwing:  Expecting value: line 1 column 1 (char 0)\n",
      "<Response [504]>\n",
      "Access token: BQDISlpIwKPqwW-M_KgvL7ti_EwGB3HpP1WDIpj1a_3UnQ3GXYjPDvx07K8gHSXR8Yti3hF7yeXocjI2eLwPP-6TUSrj8g2W7P8Q5V2Hf6TdrxY4lQx4_QRZZ-tEoLVB3ozJbw2pUgk\n",
      "Failed to get a track:  (50619, 'Ricardo Ray - Bella Es la Navidad')\n",
      "With Python throwing:  ('Connection aborted.', RemoteDisconnected('Remote end closed connection without response'))\n",
      "With the response message:  {'tracks': {'href': 'https://api.spotify.com/v1/search?offset=0&limit=1&query=Los%20Graduados%20-%20La%20Pelea%20Del%20Siglo&type=track', 'limit': 1, 'next': 'https://api.spotify.com/v1/search?offset=1&limit=1&query=Los%20Graduados%20-%20La%20Pelea%20Del%20Siglo&type=track', 'offset': 0, 'previous': None, 'total': 1000, 'items': [{'album': {'album_type': 'album', 'artists': [{'external_urls': {'spotify': 'https://open.spotify.com/artist/1JldSq8x5MHlqxHVMDEnlF'}, 'href': 'https://api.spotify.com/v1/artists/1JldSq8x5MHlqxHVMDEnlF', 'id': '1JldSq8x5MHlqxHVMDEnlF', 'name': 'Los Graduados', 'type': 'artist', 'uri': 'spotify:artist:1JldSq8x5MHlqxHVMDEnlF'}, {'external_urls': {'spotify': 'https://open.spotify.com/artist/7d1I3nQKYsBnj0uDShHrYn'}, 'href': 'https://api.spotify.com/v1/artists/7d1I3nQKYsBnj0uDShHrYn', 'id': '7d1I3nQKYsBnj0uDShHrYn', 'name': 'Gustavo Quintero', 'type': 'artist', 'uri': 'spotify:artist:7d1I3nQKYsBnj0uDShHrYn'}], 'available_markets': ['AR', 'AU', 'AT', 'BE', 'BO', 'BR', 'BG', 'CA', 'CL', 'CO', 'CR', 'CY', 'CZ', 'DK', 'DO', 'DE', 'EC', 'EE', 'SV', 'FI', 'FR', 'GR', 'GT', 'HN', 'HK', 'HU', 'IS', 'IE', 'IT', 'LV', 'LT', 'LU', 'MY', 'MT', 'MX', 'NL', 'NZ', 'NI', 'NO', 'PA', 'PY', 'PE', 'PH', 'PL', 'PT', 'SG', 'SK', 'ES', 'SE', 'CH', 'TW', 'TR', 'UY', 'US', 'GB', 'AD', 'LI', 'MC', 'ID', 'JP', 'TH', 'VN', 'RO', 'IL', 'ZA', 'SA', 'AE', 'BH', 'QA', 'OM', 'KW', 'EG', 'MA', 'DZ', 'TN', 'LB', 'JO', 'PS', 'IN', 'BY', 'KZ', 'MD', 'UA', 'AL', 'BA', 'HR', 'ME', 'MK', 'RS', 'SI', 'KR', 'BD', 'PK', 'LK', 'GH', 'KE', 'NG', 'TZ', 'UG', 'AG', 'AM', 'BS', 'BB', 'BZ', 'BT', 'BW', 'BF', 'CV', 'CW', 'DM', 'FJ', 'GM', 'GE', 'GD', 'GW', 'GY', 'HT', 'JM', 'KI', 'LS', 'LR', 'MW', 'MV', 'ML', 'MH', 'FM', 'NA', 'NR', 'NE', 'PW', 'PG', 'PR', 'WS', 'SM', 'ST', 'SN', 'SC', 'SL', 'SB', 'KN', 'LC', 'VC', 'SR', 'TL', 'TO', 'TT', 'TV', 'VU', 'AZ', 'BN', 'BI', 'KH', 'CM', 'TD', 'KM', 'GQ', 'SZ', 'GA', 'GN', 'KG', 'LA', 'MO', 'MR', 'MN', 'NP', 'RW', 'TG', 'UZ', 'ZW', 'BJ', 'MG', 'MU', 'MZ', 'AO', 'CI', 'DJ', 'ZM', 'CD', 'CG', 'IQ', 'LY', 'TJ', 'VE', 'ET', 'XK'], 'external_urls': {'spotify': 'https://open.spotify.com/album/452vdmMenDBtaiFkWjbrI7'}, 'href': 'https://api.spotify.com/v1/albums/452vdmMenDBtaiFkWjbrI7', 'id': '452vdmMenDBtaiFkWjbrI7', 'images': [{'height': 640, 'width': 640, 'url': 'https://i.scdn.co/image/ab67616d0000b2736a7abcda206621135d0491c3'}, {'height': 300, 'width': 300, 'url': 'https://i.scdn.co/image/ab67616d00001e026a7abcda206621135d0491c3'}, {'height': 64, 'width': 64, 'url': 'https://i.scdn.co/image/ab67616d000048516a7abcda206621135d0491c3'}], 'is_playable': True, 'name': 'La Pelea Del Siglo', 'release_date': '1971-09-30', 'release_date_precision': 'day', 'total_tracks': 11, 'type': 'album', 'uri': 'spotify:album:452vdmMenDBtaiFkWjbrI7'}, 'artists': [{'external_urls': {'spotify': 'https://open.spotify.com/artist/1JldSq8x5MHlqxHVMDEnlF'}, 'href': 'https://api.spotify.com/v1/artists/1JldSq8x5MHlqxHVMDEnlF', 'id': '1JldSq8x5MHlqxHVMDEnlF', 'name': 'Los Graduados', 'type': 'artist', 'uri': 'spotify:artist:1JldSq8x5MHlqxHVMDEnlF'}, {'external_urls': {'spotify': 'https://open.spotify.com/artist/7d1I3nQKYsBnj0uDShHrYn'}, 'href': 'https://api.spotify.com/v1/artists/7d1I3nQKYsBnj0uDShHrYn', 'id': '7d1I3nQKYsBnj0uDShHrYn', 'name': 'Gustavo Quintero', 'type': 'artist', 'uri': 'spotify:artist:7d1I3nQKYsBnj0uDShHrYn'}], 'available_markets': ['AR', 'AU', 'AT', 'BE', 'BO', 'BR', 'BG', 'CA', 'CL', 'CO', 'CR', 'CY', 'CZ', 'DK', 'DO', 'DE', 'EC', 'EE', 'SV', 'FI', 'FR', 'GR', 'GT', 'HN', 'HK', 'HU', 'IS', 'IE', 'IT', 'LV', 'LT', 'LU', 'MY', 'MT', 'MX', 'NL', 'NZ', 'NI', 'NO', 'PA', 'PY', 'PE', 'PH', 'PL', 'PT', 'SG', 'SK', 'ES', 'SE', 'CH', 'TW', 'TR', 'UY', 'US', 'GB', 'AD', 'LI', 'MC', 'ID', 'JP', 'TH', 'VN', 'RO', 'IL', 'ZA', 'SA', 'AE', 'BH', 'QA', 'OM', 'KW', 'EG', 'MA', 'DZ', 'TN', 'LB', 'JO', 'PS', 'IN', 'BY', 'KZ', 'MD', 'UA', 'AL', 'BA', 'HR', 'ME', 'MK', 'RS', 'SI', 'KR', 'BD', 'PK', 'LK', 'GH', 'KE', 'NG', 'TZ', 'UG', 'AG', 'AM', 'BS', 'BB', 'BZ', 'BT', 'BW', 'BF', 'CV', 'CW', 'DM', 'FJ', 'GM', 'GE', 'GD', 'GW', 'GY', 'HT', 'JM', 'KI', 'LS', 'LR', 'MW', 'MV', 'ML', 'MH', 'FM', 'NA', 'NR', 'NE', 'PW', 'PG', 'PR', 'WS', 'SM', 'ST', 'SN', 'SC', 'SL', 'SB', 'KN', 'LC', 'VC', 'SR', 'TL', 'TO', 'TT', 'TV', 'VU', 'AZ', 'BN', 'BI', 'KH', 'CM', 'TD', 'KM', 'GQ', 'SZ', 'GA', 'GN', 'KG', 'LA', 'MO', 'MR', 'MN', 'NP', 'RW', 'TG', 'UZ', 'ZW', 'BJ', 'MG', 'MU', 'MZ', 'AO', 'CI', 'DJ', 'ZM', 'CD', 'CG', 'IQ', 'LY', 'TJ', 'VE', 'ET', 'XK'], 'disc_number': 1, 'duration_ms': 165619, 'explicit': False, 'external_ids': {'isrc': 'COC017109014'}, 'external_urls': {'spotify': 'https://open.spotify.com/track/1LkDyC3wiHt5fk4u7Kuru3'}, 'href': 'https://api.spotify.com/v1/tracks/1LkDyC3wiHt5fk4u7Kuru3', 'id': '1LkDyC3wiHt5fk4u7Kuru3', 'is_local': False, 'is_playable': True, 'name': 'La Pelea Del Siglo', 'popularity': 36, 'preview_url': None, 'track_number': 1, 'type': 'track', 'uri': 'spotify:track:1LkDyC3wiHt5fk4u7Kuru3'}]}}\n",
      "Access token: BQA8K4hD2Ge4vW2P7q23hWu5-MlMuPCG4jY2Bqhan1T48uTZcnyXNL0IIv_1vl8VN2RTVe_UpOIaDt1luLbfyHKDtG6Xxs0UcFy4-XZ18P7S8e0HOAfwiQqCWO_MmDhsYns-V-tG7UA\n",
      "Failed to get a track:  (50685, 'Andy Rivera - Pa Que Me Recuerdes')\n",
      "With Python throwing:  ('Connection aborted.', RemoteDisconnected('Remote end closed connection without response'))\n",
      "With the response message:  {'tracks': {'href': 'https://api.spotify.com/v1/search?offset=0&limit=1&query=Pablo%20L%C3%B3pez%20-%20Tu%20Enemigo&type=track', 'limit': 1, 'next': 'https://api.spotify.com/v1/search?offset=1&limit=1&query=Pablo%20L%C3%B3pez%20-%20Tu%20Enemigo&type=track', 'offset': 0, 'previous': None, 'total': 1000, 'items': [{'album': {'album_type': 'album', 'artists': [{'external_urls': {'spotify': 'https://open.spotify.com/artist/4uyqaioPEdClDxU6zvYlAZ'}, 'href': 'https://api.spotify.com/v1/artists/4uyqaioPEdClDxU6zvYlAZ', 'id': '4uyqaioPEdClDxU6zvYlAZ', 'name': 'Pablo López', 'type': 'artist', 'uri': 'spotify:artist:4uyqaioPEdClDxU6zvYlAZ'}], 'available_markets': ['AR', 'AU', 'AT', 'BE', 'BO', 'BR', 'BG', 'CA', 'CL', 'CO', 'CR', 'CY', 'CZ', 'DK', 'DO', 'DE', 'EC', 'EE', 'SV', 'FI', 'FR', 'GR', 'GT', 'HN', 'HK', 'HU', 'IS', 'IE', 'IT', 'LV', 'LT', 'LU', 'MY', 'MT', 'MX', 'NL', 'NZ', 'NI', 'NO', 'PA', 'PY', 'PE', 'PH', 'PL', 'PT', 'SG', 'SK', 'ES', 'SE', 'CH', 'TW', 'TR', 'UY', 'US', 'GB', 'AD', 'LI', 'MC', 'ID', 'JP', 'TH', 'VN', 'RO', 'IL', 'ZA', 'SA', 'AE', 'BH', 'QA', 'OM', 'KW', 'EG', 'MA', 'DZ', 'TN', 'LB', 'JO', 'PS', 'IN', 'BY', 'KZ', 'MD', 'UA', 'AL', 'BA', 'HR', 'ME', 'MK', 'RS', 'SI', 'KR', 'BD', 'PK', 'LK', 'GH', 'KE', 'NG', 'TZ', 'UG', 'AG', 'AM', 'BS', 'BB', 'BZ', 'BT', 'BW', 'BF', 'CV', 'CW', 'DM', 'FJ', 'GM', 'GE', 'GD', 'GW', 'GY', 'HT', 'JM', 'KI', 'LS', 'LR', 'MW', 'MV', 'ML', 'MH', 'FM', 'NA', 'NR', 'NE', 'PW', 'PG', 'WS', 'SM', 'ST', 'SN', 'SC', 'SL', 'SB', 'KN', 'LC', 'VC', 'SR', 'TL', 'TO', 'TT', 'TV', 'VU', 'AZ', 'BN', 'BI', 'KH', 'CM', 'TD', 'KM', 'GQ', 'SZ', 'GA', 'GN', 'KG', 'LA', 'MO', 'MR', 'MN', 'NP', 'RW', 'TG', 'UZ', 'ZW', 'BJ', 'MG', 'MU', 'MZ', 'AO', 'CI', 'DJ', 'ZM', 'CD', 'CG', 'IQ', 'LY', 'TJ', 'VE', 'XK'], 'external_urls': {'spotify': 'https://open.spotify.com/album/23vAkI9cHPdFMGnpYDSSdB'}, 'href': 'https://api.spotify.com/v1/albums/23vAkI9cHPdFMGnpYDSSdB', 'id': '23vAkI9cHPdFMGnpYDSSdB', 'images': [{'height': 640, 'width': 640, 'url': 'https://i.scdn.co/image/ab67616d0000b273e97d798a25dc892c503ac4de'}, {'height': 300, 'width': 300, 'url': 'https://i.scdn.co/image/ab67616d00001e02e97d798a25dc892c503ac4de'}, {'height': 64, 'width': 64, 'url': 'https://i.scdn.co/image/ab67616d00004851e97d798a25dc892c503ac4de'}], 'is_playable': True, 'name': 'El Mundo Y Los Amantes Inocentes', 'release_date': '2015-09-04', 'release_date_precision': 'day', 'total_tracks': 10, 'type': 'album', 'uri': 'spotify:album:23vAkI9cHPdFMGnpYDSSdB'}, 'artists': [{'external_urls': {'spotify': 'https://open.spotify.com/artist/4uyqaioPEdClDxU6zvYlAZ'}, 'href': 'https://api.spotify.com/v1/artists/4uyqaioPEdClDxU6zvYlAZ', 'id': '4uyqaioPEdClDxU6zvYlAZ', 'name': 'Pablo López', 'type': 'artist', 'uri': 'spotify:artist:4uyqaioPEdClDxU6zvYlAZ'}, {'external_urls': {'spotify': 'https://open.spotify.com/artist/0UWZUmn7sybxMCqrw9tGa7'}, 'href': 'https://api.spotify.com/v1/artists/0UWZUmn7sybxMCqrw9tGa7', 'id': '0UWZUmn7sybxMCqrw9tGa7', 'name': 'Juanes', 'type': 'artist', 'uri': 'spotify:artist:0UWZUmn7sybxMCqrw9tGa7'}], 'available_markets': ['AR', 'AU', 'AT', 'BE', 'BO', 'BR', 'BG', 'CA', 'CL', 'CO', 'CR', 'CY', 'CZ', 'DK', 'DO', 'DE', 'EC', 'EE', 'SV', 'FI', 'FR', 'GR', 'GT', 'HN', 'HK', 'HU', 'IS', 'IE', 'IT', 'LV', 'LT', 'LU', 'MY', 'MT', 'MX', 'NL', 'NZ', 'NI', 'NO', 'PA', 'PY', 'PE', 'PH', 'PL', 'PT', 'SG', 'SK', 'ES', 'SE', 'CH', 'TW', 'TR', 'UY', 'US', 'GB', 'AD', 'LI', 'MC', 'ID', 'JP', 'TH', 'VN', 'RO', 'IL', 'ZA', 'SA', 'AE', 'BH', 'QA', 'OM', 'KW', 'EG', 'MA', 'DZ', 'TN', 'LB', 'JO', 'PS', 'IN', 'BY', 'KZ', 'MD', 'UA', 'AL', 'BA', 'HR', 'ME', 'MK', 'RS', 'SI', 'KR', 'BD', 'PK', 'LK', 'GH', 'KE', 'NG', 'TZ', 'UG', 'AG', 'AM', 'BS', 'BB', 'BZ', 'BT', 'BW', 'BF', 'CV', 'CW', 'DM', 'FJ', 'GM', 'GE', 'GD', 'GW', 'GY', 'HT', 'JM', 'KI', 'LS', 'LR', 'MW', 'MV', 'ML', 'MH', 'FM', 'NA', 'NR', 'NE', 'PW', 'PG', 'WS', 'SM', 'ST', 'SN', 'SC', 'SL', 'SB', 'KN', 'LC', 'VC', 'SR', 'TL', 'TO', 'TT', 'TV', 'VU', 'AZ', 'BN', 'BI', 'KH', 'CM', 'TD', 'KM', 'GQ', 'SZ', 'GA', 'GN', 'KG', 'LA', 'MO', 'MR', 'MN', 'NP', 'RW', 'TG', 'UZ', 'ZW', 'BJ', 'MG', 'MU', 'MZ', 'AO', 'CI', 'DJ', 'ZM', 'CD', 'CG', 'IQ', 'LY', 'TJ', 'VE', 'XK'], 'disc_number': 1, 'duration_ms': 208926, 'explicit': False, 'external_ids': {'isrc': 'ES5701500970'}, 'external_urls': {'spotify': 'https://open.spotify.com/track/5tsDJt6Riyi26vowpb6FLs'}, 'href': 'https://api.spotify.com/v1/tracks/5tsDJt6Riyi26vowpb6FLs', 'id': '5tsDJt6Riyi26vowpb6FLs', 'is_local': False, 'is_playable': True, 'name': 'Tu Enemigo', 'popularity': 59, 'preview_url': None, 'track_number': 5, 'type': 'track', 'uri': 'spotify:track:5tsDJt6Riyi26vowpb6FLs'}]}}\n",
      "Access token: BQCWW5Uvmwgc-t7qFo1WjxAZsjO0ly0sY9UwMmGUEjbM-aj8fDGGOPrPnZnRQQLGIg8HR0m3XPGOzqJXNt1XtaeD7dCU6WCqosvOcbRhhGldah-1fLi5sD8zrpSJMZQpwvAVPru90VU\n",
      "Index:  51000\n",
      "Index:  52000\n",
      "Index:  53000\n",
      "Index:  54000\n",
      "Index:  55000\n",
      "Index:  56000\n",
      "Access token: BQCnwtWJteqh28qmfS16snd7eZ2zNMNbgV5rMV1XxkOQlgy-vnzmUAyeGHEmfzXMDxKTnv7A2MA1_9mAYzdaE472g-WSv8wb5kkDCv6rkK-cCQVJM0OvcU_P0Sxg0fVQ5VEXA9uMEEM\n",
      "Failed to get a track:  (56583, 'Revolverheld - Lass uns gehen - Single Version')\n",
      "With Python throwing:  'tracks'\n",
      "With the response message:  {'error': {'status': 500, 'message': 'com.spotify.hermes.service.RequestTimeoutException: Request timed out: 06319287c978ea-faf30c-d5d6-74b2-d5a500b6. Host: 0a8192092a142a0000020187000009e400000009.ip.gew1.spotify.net.:5700'}}\n",
      "Access token: BQCd9pCfC67rzwSfqGWyClcOKuvA527c8a-DHbjR9csIJUXOoHKS_2q2RsP14MAaEtwGsDIl2ROATK2umBcPyTSd-Ux0gwbE0fkYP8MBjEmY9MLHgc4MNXWnQZPASjPbVwbxxmWQTEs\n",
      "Index:  57000\n",
      "Failed to get a track:  (57678, 'pd stone - Telephone Box')\n",
      "With Python throwing:  'tracks'\n",
      "With the response message:  {'error': {'status': 500, 'message': 'com.spotify.hermes.service.RequestTimeoutException: Request timed out: 063192a35d79ca-f50dda-62b2-4b87-1c1475a2. Host: 0a8148af2a142a00000201870000083f00000069.ip.gew1.spotify.net.:5700'}}\n",
      "Access token: BQAzkGlqbWeh3iHTEhpN3ngvN1Hi8Hy1ygd1nXBT1AuaMZ-EC7SlodZr0TtasjTG0SbtBhytOzK1GxmyCrjH7DS7QE7KRTbpO1QieGqiJTME-OCTF3_-DlTEqpj9CAQXrLvHKEk--30\n",
      "Index:  58000\n",
      "Index:  59000\n",
      "Failed to get a track:  (59386, 'Musso - Paris')\n",
      "With Python throwing:  'tracks'\n",
      "With the response message:  {'error': {'status': 500, 'message': 'com.spotify.hermes.service.RequestTimeoutException: Request timed out: 063192cf67be54-9162f4-d610-bc24-0fb382e0. Host: 0a80ffe12a142a0000020187000007db00000021.ip.gew1.spotify.net.:5700'}}\n",
      "Access token: BQDDT_YmraP5oNw8VkhZXm4uaOqQq2IrmH53X2vDfJzdynzAVir6BGY1qC0tlH_q7ZGv1F_foGg1AnBZIwVv6wvlm3IElFnqsPdJalOHSZz4t7fljmS14hBCt6XtGeDHE-aXUJj4QKo\n",
      "Index:  60000\n",
      "Index:  61000\n",
      "Index:  62000\n",
      "Index:  63000\n",
      "Index:  64000\n",
      "Access token: BQCYQ2djSSyar_GdBMi2vOcnMQ3Pp3JleXADgkBbXSDY_eejJFbNjMP2xrLQpcQE9SZsO2Hr2Zy8-VRK4hnk20iGyLvStYNTvxs9qZbq1yORv5Bn1yx3VXlSSKLeHXIuEkH-QYQnZTo\n",
      "Failed to get a track:  (64980, 'Troels Gustavsen - GIV MIG TID')\n",
      "With Python throwing:  list index out of range\n",
      "With the response message:  {'tracks': {'href': 'https://api.spotify.com/v1/search?offset=0&limit=1&query=Troels%20Gustavsen%20-%20GIV%20MIG%20TID&type=track', 'limit': 1, 'next': 'https://api.spotify.com/v1/search?offset=1&limit=1&query=Troels%20Gustavsen%20-%20GIV%20MIG%20TID&type=track', 'offset': 0, 'previous': None, 'total': 964, 'items': []}}\n",
      "Access token: BQBmnmHFkJfpv7O3OP0B0ZuDANYGu37YTN35Ooa4KC4b7iefjtg6Q0XEwFfpbBCPqVZzla0XaVZU06JLf1HgTW5KPEGdltLvZAtE3jUOMqVtUdS8JuO-A-yFr0cGcYYcVtEPpV5Bm3k\n",
      "Index:  65000\n",
      "Failed to get a track:  (65950, 'Matvey Emerson - I Know You Care - Radio Mix')\n",
      "With Python throwing:  ('Connection aborted.', RemoteDisconnected('Remote end closed connection without response'))\n",
      "With the response message:  {'tracks': {'href': 'https://api.spotify.com/v1/search?offset=0&limit=1&query=Wham%21%20-%20Last%20Christmas%20-%20Remastered&type=track', 'limit': 1, 'next': 'https://api.spotify.com/v1/search?offset=1&limit=1&query=Wham%21%20-%20Last%20Christmas%20-%20Remastered&type=track', 'offset': 0, 'previous': None, 'total': 1000, 'items': [{'album': {'album_type': 'compilation', 'artists': [{'external_urls': {'spotify': 'https://open.spotify.com/artist/19ra5tSw0tWufvUp8GotLo'}, 'href': 'https://api.spotify.com/v1/artists/19ra5tSw0tWufvUp8GotLo', 'id': '19ra5tSw0tWufvUp8GotLo', 'name': 'George Michael', 'type': 'artist', 'uri': 'spotify:artist:19ra5tSw0tWufvUp8GotLo'}], 'available_markets': ['AR', 'AU', 'AT', 'BE', 'BO', 'BR', 'BG', 'CA', 'CL', 'CO', 'CR', 'CY', 'CZ', 'DK', 'DO', 'DE', 'EC', 'EE', 'SV', 'FI', 'FR', 'GR', 'GT', 'HN', 'HK', 'HU', 'IS', 'IE', 'IT', 'LV', 'LT', 'LU', 'MY', 'MT', 'MX', 'NL', 'NZ', 'NI', 'NO', 'PA', 'PY', 'PE', 'PH', 'PL', 'PT', 'SG', 'SK', 'ES', 'SE', 'CH', 'TW', 'TR', 'UY', 'US', 'GB', 'AD', 'LI', 'MC', 'ID', 'JP', 'TH', 'VN', 'RO', 'IL', 'ZA', 'SA', 'AE', 'BH', 'QA', 'OM', 'KW', 'EG', 'MA', 'DZ', 'TN', 'LB', 'JO', 'PS', 'IN', 'BY', 'KZ', 'MD', 'UA', 'AL', 'BA', 'HR', 'ME', 'MK', 'RS', 'SI', 'KR', 'BD', 'PK', 'LK', 'GH', 'KE', 'NG', 'TZ', 'UG', 'AG', 'AM', 'BS', 'BB', 'BZ', 'BT', 'BW', 'BF', 'CV', 'CW', 'DM', 'FJ', 'GM', 'GE', 'GD', 'GW', 'GY', 'HT', 'JM', 'KI', 'LS', 'LR', 'MW', 'MV', 'ML', 'MH', 'FM', 'NA', 'NR', 'NE', 'PW', 'PG', 'PR', 'WS', 'SM', 'ST', 'SN', 'SC', 'SL', 'SB', 'KN', 'LC', 'VC', 'SR', 'TL', 'TO', 'TT', 'TV', 'VU', 'AZ', 'BN', 'BI', 'KH', 'CM', 'TD', 'KM', 'GQ', 'SZ', 'GA', 'GN', 'KG', 'LA', 'MO', 'MR', 'MN', 'NP', 'RW', 'TG', 'UZ', 'ZW', 'BJ', 'MG', 'MU', 'MZ', 'AO', 'CI', 'DJ', 'ZM', 'CD', 'CG', 'IQ', 'LY', 'TJ', 'VE', 'ET', 'XK'], 'external_urls': {'spotify': 'https://open.spotify.com/album/5HaOXSCK1IlwzV4ve7CUKY'}, 'href': 'https://api.spotify.com/v1/albums/5HaOXSCK1IlwzV4ve7CUKY', 'id': '5HaOXSCK1IlwzV4ve7CUKY', 'images': [{'height': 640, 'width': 640, 'url': 'https://i.scdn.co/image/ab67616d0000b2730387e54a214e3ed5ff795956'}, {'height': 300, 'width': 300, 'url': 'https://i.scdn.co/image/ab67616d00001e020387e54a214e3ed5ff795956'}, {'height': 64, 'width': 64, 'url': 'https://i.scdn.co/image/ab67616d000048510387e54a214e3ed5ff795956'}], 'is_playable': True, 'name': 'Twenty Five', 'release_date': '2006-11-11', 'release_date_precision': 'day', 'total_tracks': 44, 'type': 'album', 'uri': 'spotify:album:5HaOXSCK1IlwzV4ve7CUKY'}, 'artists': [{'external_urls': {'spotify': 'https://open.spotify.com/artist/5lpH0xAS4fVfLkACg9DAuM'}, 'href': 'https://api.spotify.com/v1/artists/5lpH0xAS4fVfLkACg9DAuM', 'id': '5lpH0xAS4fVfLkACg9DAuM', 'name': 'Wham!', 'type': 'artist', 'uri': 'spotify:artist:5lpH0xAS4fVfLkACg9DAuM'}], 'available_markets': ['AR', 'AU', 'AT', 'BE', 'BO', 'BR', 'BG', 'CA', 'CL', 'CO', 'CR', 'CY', 'CZ', 'DK', 'DO', 'DE', 'EC', 'EE', 'SV', 'FI', 'FR', 'GR', 'GT', 'HN', 'HK', 'HU', 'IS', 'IE', 'IT', 'LV', 'LT', 'LU', 'MY', 'MT', 'MX', 'NL', 'NZ', 'NI', 'NO', 'PA', 'PY', 'PE', 'PH', 'PL', 'PT', 'SG', 'SK', 'ES', 'CH', 'TW', 'TR', 'UY', 'US', 'GB', 'AD', 'LI', 'MC', 'ID', 'JP', 'TH', 'VN', 'RO', 'IL', 'ZA', 'SA', 'AE', 'BH', 'QA', 'OM', 'KW', 'EG', 'MA', 'DZ', 'TN', 'LB', 'JO', 'PS', 'IN', 'BY', 'KZ', 'MD', 'UA', 'AL', 'BA', 'HR', 'ME', 'MK', 'RS', 'SI', 'KR', 'BD', 'PK', 'LK', 'GH', 'KE', 'NG', 'TZ', 'UG', 'AG', 'AM', 'BS', 'BB', 'BZ', 'BT', 'BW', 'BF', 'CV', 'CW', 'DM', 'FJ', 'GM', 'GE', 'GD', 'GW', 'GY', 'HT', 'JM', 'KI', 'LS', 'LR', 'MW', 'MV', 'ML', 'MH', 'FM', 'NA', 'NR', 'NE', 'PW', 'PG', 'PR', 'WS', 'SM', 'ST', 'SN', 'SC', 'SL', 'SB', 'KN', 'LC', 'VC', 'SR', 'TL', 'TO', 'TT', 'TV', 'VU', 'AZ', 'BN', 'BI', 'KH', 'CM', 'TD', 'KM', 'GQ', 'SZ', 'GA', 'GN', 'KG', 'LA', 'MO', 'MR', 'MN', 'NP', 'RW', 'TG', 'UZ', 'ZW', 'BJ', 'MG', 'MU', 'MZ', 'AO', 'CI', 'DJ', 'ZM', 'CD', 'CG', 'IQ', 'LY', 'TJ', 'VE', 'ET', 'XK'], 'disc_number': 2, 'duration_ms': 267160, 'explicit': False, 'external_ids': {'isrc': 'GBARL0601611'}, 'external_urls': {'spotify': 'https://open.spotify.com/track/6wn2nmFn3wDuiMldRiuRuL'}, 'href': 'https://api.spotify.com/v1/tracks/6wn2nmFn3wDuiMldRiuRuL', 'id': '6wn2nmFn3wDuiMldRiuRuL', 'is_local': False, 'is_playable': True, 'name': 'Last Christmas - Remastered', 'popularity': 58, 'preview_url': None, 'track_number': 2, 'type': 'track', 'uri': 'spotify:track:6wn2nmFn3wDuiMldRiuRuL'}]}}\n",
      "Access token: BQC8BlUs5qa3IlAslhaqE6LJRik9TPyjQswSpAdUU82XTwHmp8Z5cZrJLRSiMarMalkfsc2ju7wFaHFW5HNUfxhdA2wsfA5uw8v9N5EbFSjKM_Q-68OZleXA63gfX3fUMFJVMlqozBo\n",
      "Failed to get a track:  (65972, 'George Michael - You Have Been Loved')\n",
      "With Python throwing:  'tracks'\n",
      "With the response message:  {'error': {'status': 500, 'message': 'com.spotify.hermes.service.RequestTimeoutException: Request timed out: 0631936c97047c-bc0d74-d694-c816-b8130925. Host: 0a80294d2a142a00000201870000020e00000049.ip.gew1.spotify.net.:5700'}}\n",
      "Access token: BQCxdOrKpZrh4F1zw4nTW2udcIyKVwseZAsEonYH91-Jr4a1CkYOfjX57O3BuiUZVdlwgteDEeLF7qdoqMejMBoqgVgKjmqcMqz6AFXQ5I9CATqHuossud_3HUVs0n0AGqaD8KWBivo\n",
      "Index:  66000\n",
      "Index:  67000\n",
      "Failed to get a track:  (67019, 'Lander Rey - La Compe')\n",
      "With Python throwing:  'tracks'\n",
      "With the response message:  {'error': {'status': 500, 'message': 'com.spotify.hermes.service.RequestTimeoutException: Request timed out: 06319389e986f7-f60020-07ac-e68c-759b73dd. Host: 0a8148af2a142a00000201870000083f00000069.ip.gew1.spotify.net.:5700'}}\n",
      "Access token: BQBMGH2jAi3MMEgTgkHBP6WfqPnZ2KwMCFF_cWXwfo7GJFqzEedWl645snQ7Pc1NtU75UWWYhacEyfGsZiV7G3HrxvDHnZ-9kBCEf4gQSKa6uj0vuyz771krFNH0B9cmapYgTd2DkYc\n",
      "Index:  68000\n",
      "Index:  69000\n",
      "Index:  70000\n",
      "Failed to get a track:  (70238, 'kewin - 1idee')\n",
      "With Python throwing:  ('Connection aborted.', RemoteDisconnected('Remote end closed connection without response'))\n",
      "With the response message:  {'tracks': {'href': 'https://api.spotify.com/v1/search?offset=0&limit=1&query=Karavan%20-%20L%C3%A4bi%20sahiseva%20lume&type=track', 'limit': 1, 'next': 'https://api.spotify.com/v1/search?offset=1&limit=1&query=Karavan%20-%20L%C3%A4bi%20sahiseva%20lume&type=track', 'offset': 0, 'previous': None, 'total': 818, 'items': [{'album': {'album_type': 'album', 'artists': [{'external_urls': {'spotify': 'https://open.spotify.com/artist/2kCYuLt9oD8xX4bjU85RDF'}, 'href': 'https://api.spotify.com/v1/artists/2kCYuLt9oD8xX4bjU85RDF', 'id': '2kCYuLt9oD8xX4bjU85RDF', 'name': 'Karavan', 'type': 'artist', 'uri': 'spotify:artist:2kCYuLt9oD8xX4bjU85RDF'}], 'available_markets': ['AR', 'AU', 'AT', 'BE', 'BO', 'BR', 'BG', 'CA', 'CL', 'CO', 'CR', 'CY', 'CZ', 'DK', 'DO', 'DE', 'EC', 'EE', 'SV', 'FI', 'FR', 'GR', 'GT', 'HN', 'HK', 'HU', 'IS', 'IE', 'IT', 'LV', 'LT', 'LU', 'MY', 'MT', 'MX', 'NL', 'NZ', 'NI', 'NO', 'PA', 'PY', 'PE', 'PH', 'PL', 'PT', 'SG', 'SK', 'ES', 'SE', 'CH', 'TW', 'TR', 'UY', 'US', 'GB', 'AD', 'LI', 'MC', 'ID', 'JP', 'TH', 'VN', 'RO', 'IL', 'ZA', 'SA', 'AE', 'BH', 'QA', 'OM', 'KW', 'EG', 'MA', 'DZ', 'TN', 'LB', 'JO', 'PS', 'IN', 'BY', 'KZ', 'MD', 'UA', 'AL', 'BA', 'HR', 'ME', 'MK', 'RS', 'SI', 'KR', 'BD', 'PK', 'LK', 'GH', 'KE', 'NG', 'TZ', 'UG', 'AG', 'AM', 'BS', 'BB', 'BZ', 'BT', 'BW', 'BF', 'CV', 'CW', 'DM', 'FJ', 'GM', 'GE', 'GD', 'GW', 'GY', 'HT', 'JM', 'KI', 'LS', 'LR', 'MW', 'MV', 'ML', 'MH', 'FM', 'NA', 'NR', 'NE', 'PW', 'PG', 'PR', 'WS', 'SM', 'ST', 'SN', 'SC', 'SL', 'SB', 'KN', 'LC', 'VC', 'SR', 'TL', 'TO', 'TT', 'TV', 'VU', 'AZ', 'BN', 'BI', 'KH', 'CM', 'TD', 'KM', 'GQ', 'SZ', 'GA', 'GN', 'KG', 'LA', 'MO', 'MR', 'MN', 'NP', 'RW', 'TG', 'UZ', 'ZW', 'BJ', 'MG', 'MU', 'MZ', 'AO', 'CI', 'DJ', 'ZM', 'CD', 'CG', 'IQ', 'LY', 'TJ', 'VE', 'ET', 'XK'], 'external_urls': {'spotify': 'https://open.spotify.com/album/0uw7pQVebGbGkIi2NIYqrH'}, 'href': 'https://api.spotify.com/v1/albums/0uw7pQVebGbGkIi2NIYqrH', 'id': '0uw7pQVebGbGkIi2NIYqrH', 'images': [{'height': 640, 'width': 640, 'url': 'https://i.scdn.co/image/ab67616d0000b27316cc7a7301750898673f5a57'}, {'height': 300, 'width': 300, 'url': 'https://i.scdn.co/image/ab67616d00001e0216cc7a7301750898673f5a57'}, {'height': 64, 'width': 64, 'url': 'https://i.scdn.co/image/ab67616d0000485116cc7a7301750898673f5a57'}], 'is_playable': True, 'name': 'Kauneid jõule', 'release_date': '1989-12-01', 'release_date_precision': 'day', 'total_tracks': 20, 'type': 'album', 'uri': 'spotify:album:0uw7pQVebGbGkIi2NIYqrH'}, 'artists': [{'external_urls': {'spotify': 'https://open.spotify.com/artist/2kCYuLt9oD8xX4bjU85RDF'}, 'href': 'https://api.spotify.com/v1/artists/2kCYuLt9oD8xX4bjU85RDF', 'id': '2kCYuLt9oD8xX4bjU85RDF', 'name': 'Karavan', 'type': 'artist', 'uri': 'spotify:artist:2kCYuLt9oD8xX4bjU85RDF'}], 'available_markets': ['AR', 'AU', 'AT', 'BE', 'BO', 'BR', 'BG', 'CA', 'CL', 'CO', 'CR', 'CY', 'CZ', 'DK', 'DO', 'DE', 'EC', 'EE', 'SV', 'FI', 'FR', 'GR', 'GT', 'HN', 'HK', 'HU', 'IS', 'IE', 'IT', 'LV', 'LT', 'LU', 'MY', 'MT', 'MX', 'NL', 'NZ', 'NI', 'NO', 'PA', 'PY', 'PE', 'PH', 'PL', 'PT', 'SG', 'SK', 'ES', 'SE', 'CH', 'TW', 'TR', 'UY', 'US', 'GB', 'AD', 'LI', 'MC', 'ID', 'JP', 'TH', 'VN', 'RO', 'IL', 'ZA', 'SA', 'AE', 'BH', 'QA', 'OM', 'KW', 'EG', 'MA', 'DZ', 'TN', 'LB', 'JO', 'PS', 'IN', 'BY', 'KZ', 'MD', 'UA', 'AL', 'BA', 'HR', 'ME', 'MK', 'RS', 'SI', 'KR', 'BD', 'PK', 'LK', 'GH', 'KE', 'NG', 'TZ', 'UG', 'AG', 'AM', 'BS', 'BB', 'BZ', 'BT', 'BW', 'BF', 'CV', 'CW', 'DM', 'FJ', 'GM', 'GE', 'GD', 'GW', 'GY', 'HT', 'JM', 'KI', 'LS', 'LR', 'MW', 'MV', 'ML', 'MH', 'FM', 'NA', 'NR', 'NE', 'PW', 'PG', 'PR', 'WS', 'SM', 'ST', 'SN', 'SC', 'SL', 'SB', 'KN', 'LC', 'VC', 'SR', 'TL', 'TO', 'TT', 'TV', 'VU', 'AZ', 'BN', 'BI', 'KH', 'CM', 'TD', 'KM', 'GQ', 'SZ', 'GA', 'GN', 'KG', 'LA', 'MO', 'MR', 'MN', 'NP', 'RW', 'TG', 'UZ', 'ZW', 'BJ', 'MG', 'MU', 'MZ', 'AO', 'CI', 'DJ', 'ZM', 'CD', 'CG', 'IQ', 'LY', 'TJ', 'VE', 'ET', 'XK'], 'disc_number': 1, 'duration_ms': 128459, 'explicit': False, 'external_ids': {'isrc': 'QZFYW2113197'}, 'external_urls': {'spotify': 'https://open.spotify.com/track/2OHVyDmZAdmXTrLOOjF7hg'}, 'href': 'https://api.spotify.com/v1/tracks/2OHVyDmZAdmXTrLOOjF7hg', 'id': '2OHVyDmZAdmXTrLOOjF7hg', 'is_local': False, 'is_playable': True, 'name': 'Läbi sahiseva lume', 'popularity': 6, 'preview_url': None, 'track_number': 15, 'type': 'track', 'uri': 'spotify:track:2OHVyDmZAdmXTrLOOjF7hg'}]}}\n",
      "Access token: BQByb4vC8iLjThl6jzeOZ6-2_E4XyuT_Q1Nv3xJzCp-IAsuNoSLQC2eQQRoJZsPiDX_MRt0k5iL5x3rolC-1tPI8AFq6Jdb26zVANJOzm7gKFhv-1STbhowiW_RIWU9sd-3Qvs844X0\n",
      "Index:  71000\n",
      "Index:  72000\n",
      "Access token: BQC-k-dO2diOhGzFB5KYgGOoilkvixIdoxx1gauDuEnXtJ9BEohw2_-3max8r-rnDgm19601rfBv9ZXL-lLel22g1DSO6XGeDBcm7jkRimpgNsVy8giinOmcaREiFQdc2rgq8yCK6wI\n",
      "Index:  73000\n",
      "Failed to get a track:  (73486, 'Pole. - Roma')\n",
      "With Python throwing:  'tracks'\n",
      "With the response message:  {'error': {'status': 500, 'message': 'com.spotify.hermes.service.RequestTimeoutException: Request timed out: 06319425c7082e-ce01f6-62fc-3536-1d6889ad. Host: 0a806e0d2a142a0000020187000003960000000d.ip.gew1.spotify.net.:5700'}}\n",
      "Access token: BQDtyDbJYXoC6keO-qVZBbgSfooT5LgGWKNAfrMctx2Eo9AAclouky_XZOd9Y0vT1ywlYBwVIm4jZLK7Sv_5ZMJi9op45J7wQDQ77GFyS3XteWfbkRgo7YIZipvMcj-X7Oyqylmv40g\n",
      "Index:  74000\n"
     ]
    }
   ],
   "source": [
    "access_token = get_token()\n",
    "with open('../../Data/Raw/spotify_song_data_3.txt', \"a+\", encoding=\"utf-8\") as f:\n",
    "    for index, row in df_songs.iloc[50000:75000].iterrows():\n",
    "        this_song = (index, row['SongAndArtist'])\n",
    "        if index % 1000 == 0:\n",
    "            print(\"Index: \", index)\n",
    "        # The token expires in around an hour, so we need to get a new one every so often\n",
    "        if index % 8000 == 0:\n",
    "            access_token = get_token()\n",
    "        try:\n",
    "            track_info = get_tracks(access_token, row['SongAndArtist'], limit=1, offset=0)\n",
    "            # print(track_info.json()['tracks']['items'])\n",
    "            f.write(str(track_info.json()['tracks'][\"items\"][0]) + '\\n')\n",
    "        except Exception as e:\n",
    "            print(\"Failed to get a track: \", this_song)\n",
    "            try:\n",
    "                print(\"With Python throwing: \", e)\n",
    "                print(\"With the response message: \", track_info.json())\n",
    "            except Exception as e:\n",
    "                # We don't get the tempalted response from spotify, meaning we get a error message instead\n",
    "                # Very likely just a 429 error, so we wait a bit and try again\n",
    "                # Or in some cases other issues, leading to 529/other errors\n",
    "                print(track_info)\n",
    "                time.sleep(300)\n",
    "            access_token = get_token()\n",
    "\n",
    "        time.sleep(0.1)"
   ]
  },
  {
   "cell_type": "markdown",
   "metadata": {},
   "source": [
    "Songs we couldn't get the first time around, either due to internet issues or spotify not finding anything\n",
    "<br>\n",
    "We can get those once we get all the others"
   ]
  },
  {
   "cell_type": "markdown",
   "metadata": {},
   "source": [
    "10907, 'Milky Chance - Stolen Dance'\n",
    "13570, 'Stephen Dawes - Teenage Dream'\n",
    "17994, 'Kollegah - Der Boss is Back'\n",
    "18253, \"Destiny's Child - 8 Days of Christmas - Live\""
   ]
  },
  {
   "cell_type": "markdown",
   "metadata": {},
   "source": [
    "25294, 'Gert Verhulst - Altijd', 25446, \"Vald - J'pourrai\", 27775, 'Le classico organisé - À la rue marié', 33373, 'IZA - Pesadão (Participação especial Marcelo Falcão)', 38297, 'Thiago Brava - Lei do Desapego', 40740, 'Basta - Моя Вселенная', 46643, 'Lo & Leduc - Gschirr'"
   ]
  },
  {
   "cell_type": "markdown",
   "metadata": {},
   "source": [
    "50411, 'W Sound - Mi Novio Tiene Novia - W Sound 02', 50619, 'Ricardo Ray - Bella Es la Navidad', 50685, 'Andy Rivera - Pa Que Me Recuerdes', 56583, 'Revolverheld - Lass uns gehen - Single Version', 57678, 'pd stone - Telephone Box', 59386, 'Musso - Paris', 64980, 'Troels Gustavsen - GIV MIG TID', 65950, 'Matvey Emerson - I Know You Care - Radio Mix', 65972, 'George Michael - You Have Been Loved', 67019, 'Lander Rey - La Compe', 70238, 'kewin - 1idee', 73486, 'Pole. - Roma'"
   ]
  }
 ],
 "metadata": {
  "kernelspec": {
   "display_name": "Python 3 (ipykernel)",
   "language": "python",
   "name": "python3"
  },
  "language_info": {
   "codemirror_mode": {
    "name": "ipython",
    "version": 3
   },
   "file_extension": ".py",
   "mimetype": "text/x-python",
   "name": "python",
   "nbconvert_exporter": "python",
   "pygments_lexer": "ipython3",
   "version": "3.12.4"
  }
 },
 "nbformat": 4,
 "nbformat_minor": 4
}
