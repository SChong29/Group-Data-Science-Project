{
 "cells": [
  {
   "cell_type": "markdown",
   "id": "b274bd19-bd24-4e4b-8c73-b7b18dcc0759",
   "metadata": {},
   "source": [
    "# Clean Kworb.net Spotify Most Streamed Artists\n",
    "The code below just takes the csv file \"kworb_top_artists.csv\" that was orginially made in \"kworb_artists_scraper.ipynb\". It get's rid of all the commas to convert the numbers into ints to make visualisation easier. It also fills \"missing\" entries with 0s because there are many artists that are not featured on any tracks and are not considered \"lead artist\" so we can safely assume that the entries should be 0."
   ]
  },
  {
   "cell_type": "code",
   "execution_count": 28,
   "id": "7a8189d1-765a-41f3-ae1e-06194fe75dfd",
   "metadata": {},
   "outputs": [],
   "source": [
    "import pandas as pd\n",
    "import csv\n",
    "import os"
   ]
  },
  {
   "cell_type": "code",
   "execution_count": 30,
   "id": "caf66523-8c5b-47f9-8030-ad28693f301d",
   "metadata": {},
   "outputs": [
    {
     "data": {
      "text/html": [
       "<div>\n",
       "<style scoped>\n",
       "    .dataframe tbody tr th:only-of-type {\n",
       "        vertical-align: middle;\n",
       "    }\n",
       "\n",
       "    .dataframe tbody tr th {\n",
       "        vertical-align: top;\n",
       "    }\n",
       "\n",
       "    .dataframe thead th {\n",
       "        text-align: right;\n",
       "    }\n",
       "</style>\n",
       "<table border=\"1\" class=\"dataframe\">\n",
       "  <thead>\n",
       "    <tr style=\"text-align: right;\">\n",
       "      <th></th>\n",
       "      <th>Artist</th>\n",
       "      <th>total_streams</th>\n",
       "      <th>streams_as_lead</th>\n",
       "      <th>solo_streams</th>\n",
       "      <th>featured_streams</th>\n",
       "      <th>daily_streams</th>\n",
       "      <th>tracks_total</th>\n",
       "      <th>tracks_as_lead</th>\n",
       "      <th>tracks_solo</th>\n",
       "      <th>tracks_as_feature</th>\n",
       "    </tr>\n",
       "  </thead>\n",
       "  <tbody>\n",
       "    <tr>\n",
       "      <th>0</th>\n",
       "      <td>Drake</td>\n",
       "      <td>112,592,066,779</td>\n",
       "      <td>76,886,517,261</td>\n",
       "      <td>42,430,139,565</td>\n",
       "      <td>35,705,549,518</td>\n",
       "      <td>50,091,662</td>\n",
       "      <td>513</td>\n",
       "      <td>314</td>\n",
       "      <td>197</td>\n",
       "      <td>199</td>\n",
       "    </tr>\n",
       "    <tr>\n",
       "      <th>1</th>\n",
       "      <td>Taylor Swift</td>\n",
       "      <td>102,222,940,841</td>\n",
       "      <td>98,993,346,012</td>\n",
       "      <td>90,320,824,607</td>\n",
       "      <td>3,229,594,829</td>\n",
       "      <td>49,907,494</td>\n",
       "      <td>593</td>\n",
       "      <td>579</td>\n",
       "      <td>519</td>\n",
       "      <td>14</td>\n",
       "    </tr>\n",
       "    <tr>\n",
       "      <th>2</th>\n",
       "      <td>Bad Bunny</td>\n",
       "      <td>97,253,221,301</td>\n",
       "      <td>61,472,589,366</td>\n",
       "      <td>34,896,852,568</td>\n",
       "      <td>35,780,631,935</td>\n",
       "      <td>63,464,912</td>\n",
       "      <td>269</td>\n",
       "      <td>144</td>\n",
       "      <td>87</td>\n",
       "      <td>125</td>\n",
       "    </tr>\n",
       "    <tr>\n",
       "      <th>3</th>\n",
       "      <td>The Weeknd</td>\n",
       "      <td>79,246,015,185</td>\n",
       "      <td>63,772,467,221</td>\n",
       "      <td>42,714,560,989</td>\n",
       "      <td>15,473,547,964</td>\n",
       "      <td>44,626,887</td>\n",
       "      <td>319</td>\n",
       "      <td>241</td>\n",
       "      <td>169</td>\n",
       "      <td>78</td>\n",
       "    </tr>\n",
       "    <tr>\n",
       "      <th>4</th>\n",
       "      <td>Justin Bieber</td>\n",
       "      <td>59,964,949,358</td>\n",
       "      <td>36,504,644,580</td>\n",
       "      <td>22,040,079,971</td>\n",
       "      <td>23,460,304,778</td>\n",
       "      <td>22,204,379</td>\n",
       "      <td>289</td>\n",
       "      <td>206</td>\n",
       "      <td>111</td>\n",
       "      <td>83</td>\n",
       "    </tr>\n",
       "  </tbody>\n",
       "</table>\n",
       "</div>"
      ],
      "text/plain": [
       "          Artist    total_streams streams_as_lead    solo_streams  \\\n",
       "0          Drake  112,592,066,779  76,886,517,261  42,430,139,565   \n",
       "1   Taylor Swift  102,222,940,841  98,993,346,012  90,320,824,607   \n",
       "2      Bad Bunny   97,253,221,301  61,472,589,366  34,896,852,568   \n",
       "3     The Weeknd   79,246,015,185  63,772,467,221  42,714,560,989   \n",
       "4  Justin Bieber   59,964,949,358  36,504,644,580  22,040,079,971   \n",
       "\n",
       "  featured_streams daily_streams tracks_total tracks_as_lead tracks_solo  \\\n",
       "0   35,705,549,518    50,091,662          513            314         197   \n",
       "1    3,229,594,829    49,907,494          593            579         519   \n",
       "2   35,780,631,935    63,464,912          269            144          87   \n",
       "3   15,473,547,964    44,626,887          319            241         169   \n",
       "4   23,460,304,778    22,204,379          289            206         111   \n",
       "\n",
       "  tracks_as_feature  \n",
       "0               199  \n",
       "1                14  \n",
       "2               125  \n",
       "3                78  \n",
       "4                83  "
      ]
     },
     "execution_count": 30,
     "metadata": {},
     "output_type": "execute_result"
    }
   ],
   "source": [
    "# Read in CSV file of top Spotify artists\n",
    "df = pd.read_csv('../../Data/Raw/kworb_spotify_top_artists.csv')\n",
    "df.head()"
   ]
  },
  {
   "cell_type": "markdown",
   "id": "3ba69856-c8d3-4c9c-886c-097bea71f663",
   "metadata": {},
   "source": [
    "Make a list of all the columns that need to be cleaned (the ones containing numbers) and fill any missing values with 0."
   ]
  },
  {
   "cell_type": "code",
   "execution_count": 38,
   "id": "eae6c945-52f8-4bfb-9f10-9334eb0a145f",
   "metadata": {},
   "outputs": [
    {
     "name": "stdout",
     "output_type": "stream",
     "text": [
      "          Artist  total_streams  streams_as_lead  solo_streams  \\\n",
      "0          Drake   112592066779      76886517261   42430139565   \n",
      "1   Taylor Swift   102222940841      98993346012   90320824607   \n",
      "2      Bad Bunny    97253221301      61472589366   34896852568   \n",
      "3     The Weeknd    79246015185      63772467221   42714560989   \n",
      "4  Justin Bieber    59964949358      36504644580   22040079971   \n",
      "\n",
      "   featured_streams  daily_streams  tracks_total  tracks_as_lead  tracks_solo  \\\n",
      "0       35705549518       50091662           513             314          197   \n",
      "1        3229594829       49907494           593             579          519   \n",
      "2       35780631935       63464912           269             144           87   \n",
      "3       15473547964       44626887           319             241          169   \n",
      "4       23460304778       22204379           289             206          111   \n",
      "\n",
      "   tracks_as_feature  \n",
      "0                199  \n",
      "1                 14  \n",
      "2                125  \n",
      "3                 78  \n",
      "4                 83  \n"
     ]
    }
   ],
   "source": [
    "# List of columns to clean\n",
    "columns_to_clean = [\n",
    "    'total_streams', 'streams_as_lead', 'solo_streams', 'featured_streams',\n",
    "    'daily_streams', 'tracks_total', 'tracks_as_lead', 'tracks_solo', 'tracks_as_feature'\n",
    "]\n",
    "\n",
    "# Clean commas and convert to numeric\n",
    "for col in columns_to_clean:\n",
    "    df[col] = pd.to_numeric(df[col].astype(str).str.replace(',', ''), errors='coerce')\n",
    "\n",
    "# Fill empty rows with 0 (some artists aren't featured in any songs)\n",
    "df[columns_to_clean] = df[columns_to_clean].fillna(0).astype(int)\n",
    "\n",
    "print(df.head())"
   ]
  },
  {
   "cell_type": "markdown",
   "id": "61618a66-1bb4-42ad-8d08-73945012ed51",
   "metadata": {},
   "source": [
    "Save the file to the processed data folder."
   ]
  },
  {
   "cell_type": "code",
   "execution_count": 45,
   "id": "dd769f56-449e-4146-908a-c938870d2223",
   "metadata": {},
   "outputs": [],
   "source": [
    "# Save the DataFrame to CSV\n",
    "df.to_csv('../../Data/Processed/kworb_spotify_artists.csv', index=False)"
   ]
  }
 ],
 "metadata": {
  "kernelspec": {
   "display_name": "Python 3 (ipykernel)",
   "language": "python",
   "name": "python3"
  },
  "language_info": {
   "codemirror_mode": {
    "name": "ipython",
    "version": 3
   },
   "file_extension": ".py",
   "mimetype": "text/x-python",
   "name": "python",
   "nbconvert_exporter": "python",
   "pygments_lexer": "ipython3",
   "version": "3.12.4"
  }
 },
 "nbformat": 4,
 "nbformat_minor": 5
}
